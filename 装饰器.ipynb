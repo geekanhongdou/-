{
 "cells": [
  {
   "cell_type": "code",
   "execution_count": 5,
   "metadata": {},
   "outputs": [
    {
     "name": "stdout",
     "output_type": "stream",
     "text": [
      "我是函数1\n",
      "花费：0.0010004043579101562秒\n",
      "我是函数2\n",
      "花费：0.0秒\n",
      "我是函数3\n"
     ]
    }
   ],
   "source": [
    "\n",
    "import time\n",
    "\n",
    "def timeit(function):\n",
    "    def wrapper():\n",
    "        time_start = time.time()\n",
    "        function()\n",
    "        time_end = time.time()\n",
    "        time_cost = time_end - time_start\n",
    "        print(\"花费：{}秒\".format(time_cost))\n",
    "    return wrapper\n",
    "\n",
    "@timeit\n",
    "def function1():\n",
    "    print(\"我是函数1\")\n",
    "\n",
    "@timeit\n",
    "def function2():\n",
    "    print(\"我是函数2\")\n",
    "\n",
    "# @timeit\n",
    "def function3():\n",
    "    print(\"我是函数3\")\n",
    "\n",
    "if __name__ =='__main__':\n",
    "     function1()\n",
    "     function2()\n",
    "     function3()\n"
   ]
  },
  {
   "cell_type": "markdown",
   "metadata": {},
   "source": [
    "tips:\n",
    "不管函数有没有输入值或者返回值，不管你是在定义还是调用，只要你写道了函数，除非函数本省作为参数对象，要不然一定要加(((((((((()(()))))))))))，要不是系统咋知道你是函数噻？？？？？"
   ]
  },
  {
   "cell_type": "code",
   "execution_count": null,
   "metadata": {},
   "outputs": [],
   "source": [
    "import time\n",
    "def f(func):\n",
    "    def wrapper:\n",
    "        time_start = time.time()\n",
    "        func()\n",
    "        time_end = time.time()\n",
    "        time_cost = time_end - time_start\n",
    "        print(\"花费时间为：{}\".format(time_cost))\n",
    "    return wrapper\n",
    "\n",
    "@f\n",
    "def g1():\n",
    "    "
   ]
  }
 ],
 "metadata": {
  "interpreter": {
   "hash": "36f0f191dcafee7eb0eb15ea61efb4594f998b1347b92492c622ce81cc67fc4f"
  },
  "kernelspec": {
   "display_name": "Python 3.8.8",
   "language": "python",
   "name": "python3"
  },
  "language_info": {
   "codemirror_mode": {
    "name": "ipython",
    "version": 3
   },
   "file_extension": ".py",
   "mimetype": "text/x-python",
   "name": "python",
   "nbconvert_exporter": "python",
   "pygments_lexer": "ipython3",
   "version": "3.8.8"
  },
  "orig_nbformat": 4
 },
 "nbformat": 4,
 "nbformat_minor": 2
}
